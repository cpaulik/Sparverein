{
 "metadata": {
  "name": ""
 },
 "nbformat": 3,
 "nbformat_minor": 0,
 "worksheets": [
  {
   "cells": [
    {
     "cell_type": "code",
     "collapsed": false,
     "input": [
      "mitglieder = ['Peter','Julia','Jana','Mone',\n",
      "              'Kathi','Christoph P.','Lukas',\n",
      "              'Christoph W.','Matthias','Eva',\n",
      "              'Lena','Tobi','Dominic','Theresa',\n",
      "              'Bernhard','Johanna']\n",
      "gast = ['Gordon']\n",
      "\n",
      "einzahler = mitglieder\n",
      "einzahler.extend(gast)"
     ],
     "language": "python",
     "metadata": {},
     "outputs": [],
     "prompt_number": 1
    },
    {
     "cell_type": "code",
     "collapsed": false,
     "input": [
      "import pandas as pd\n",
      "import numpy as np\n",
      "from datetime import datetime\n",
      "erstes_halbjahr = pd.date_range('2012-10-2T20:00:00','2012-12-18',freq='7D')\n",
      "erstes_halbjahr = erstes_halbjahr + pd.date_range('2013-1-8T20:00:00','2013-2-26',freq='7D')\n",
      "\n",
      "zweites_hlbj = pd.date_range('2013-03-5T20:00:00','2013-3-19',freq='7D')\n",
      "#am 15 april war eigentlich kein Sparverein hier werden die Nachzahlungen die an diesem\n",
      "#Zeitpunkt gemacht wurden eingef\u00fcgt\n",
      "zweites_hlbj = zweites_hlbj + pd.date_range('2013-04-15T20:00:00',periods=1)\n",
      "zweites_hlbj = zweites_hlbj + pd.date_range('2013-04-2T20:00:00','2013-4-16',freq='7D')\n",
      "zweites_hlbj = zweites_hlbj + pd.date_range('2013-04-30T20:00:00','2013-5-14',freq='7D')\n",
      "zweites_hlbj = zweites_hlbj + pd.date_range('2013-05-28T20:00:00','2013-6-4',freq='7D')\n",
      "\n",
      "alle_datums = erstes_halbjahr+zweites_hlbj\n",
      "\n",
      "einzahlungen = pd.DataFrame(np.zeros((len(alle_datums),len(einzahler))),columns=einzahler,index=alle_datums)"
     ],
     "language": "python",
     "metadata": {},
     "outputs": [],
     "prompt_number": 2
    },
    {
     "cell_type": "code",
     "collapsed": false,
     "input": [
      "#die ersten 20 einzahlungen vom Hauptzettel\n",
      "einzahlungen['Peter'].values[:20]=np.ones(20)\n",
      "einzahlungen['Julia'].values[:20]=np.concatenate((np.ones(7),np.zeros(2),np.ones(11)))\n",
      "einzahlungen['Jana'].values[:20]=np.concatenate((np.ones(8),[0],np.ones(7),[0,0,1,1]))\n",
      "einzahlungen['Mone'].values[:20]=np.concatenate((np.ones(8),[0],np.ones(6),np.zeros(5)))\n",
      "einzahlungen['Kathi'].values[:20]=np.concatenate((np.ones(2),[1.86/2.5],np.zeros(4),[1],np.zeros(12)))\n",
      "einzahlungen['Christoph P.'].values[:20]=np.concatenate((np.ones(8),[0],np.ones(11)))\n",
      "einzahlungen['Lukas'].values[:20]=np.ones(20)\n",
      "einzahlungen['Christoph W.'].values[:20]=np.ones(20)\n",
      "einzahlungen['Matthias'].values[:20]=np.concatenate((np.ones(8),[0],np.ones(10),[0]))\n",
      "einzahlungen['Eva'].values[:20]=np.concatenate((np.ones(7),[0,0],np.ones(9),[0,0]))\n",
      "einzahlungen['Tobi'].values[:20]=np.concatenate((np.ones(7),[0,0],np.ones(11)))\n",
      "einzahlungen['Dominic'].values[:20]=np.concatenate((np.ones(7),[0,0,1,1],np.zeros(4),[1,1,1,1,0]))\n",
      "einzahlungen['Theresa'].values[:20]=np.ones(20)\n",
      "\n",
      "#die n\u00e4chsten 5 einzahlungen sind auf dem kleinen Zettel\n",
      "einzahlungen.ix[datetime(2013,3,5,20)]['Jana']=1\n",
      "einzahlungen.ix[datetime(2013,3,5,20)]['Christoph P.']=1\n",
      "einzahlungen.ix[datetime(2013,3,5,20)]['Peter']=1\n",
      "einzahlungen.ix[datetime(2013,3,5,20)]['Julia']=1\n",
      "einzahlungen.ix[datetime(2013,3,5,20)]['Mone']=2\n",
      "einzahlungen.ix[datetime(2013,3,5,20)]['Matthias']=4\n",
      "einzahlungen.ix[datetime(2013,3,5,20)]['Bernhard']=4\n",
      "\n",
      "einzahlungen.ix[datetime(2013,3,12,20)]['Peter']=1\n",
      "einzahlungen.ix[datetime(2013,3,12,20)]['Christoph W.']=2\n",
      "einzahlungen.ix[datetime(2013,3,12,20)]['Jana']=2\n",
      "einzahlungen.ix[datetime(2013,3,12,20)]['Julia']=1\n",
      "einzahlungen.ix[datetime(2013,3,12,20)]['Tobi']=1\n",
      "einzahlungen.ix[datetime(2013,3,12,20)]['Mone']=1\n",
      "einzahlungen.ix[datetime(2013,3,12,20)]['Theresa']=1\n",
      "einzahlungen.ix[datetime(2013,3,12,20)]['Eva']=1\n",
      "\n",
      "einzahlungen.ix[datetime(2013,3,19,20)]['Peter']=1\n",
      "einzahlungen.ix[datetime(2013,3,19,20)]['Jana']=1\n",
      "einzahlungen.ix[datetime(2013,3,19,20)]['Theresa']=1\n",
      "einzahlungen.ix[datetime(2013,3,19,20)]['Christoph P.']=2\n",
      "einzahlungen.ix[datetime(2013,3,19,20)]['Gordon']=1\n",
      "einzahlungen.ix[datetime(2013,3,19,20)]['Tobi']=1\n",
      "einzahlungen.ix[datetime(2013,3,19,20)]['Kathi']=2\n",
      "einzahlungen.ix[datetime(2013,3,19,20)]['Matthias']=1\n",
      "einzahlungen.ix[datetime(2013,3,19,20)]['Mone']=1\n",
      "\n",
      "einzahlungen.ix[datetime(2013,4,2,20)]['Jana']=2\n",
      "einzahlungen.ix[datetime(2013,4,2,20)]['Theresa']=2\n",
      "einzahlungen.ix[datetime(2013,4,2,20)]['Julia']=4\n",
      "einzahlungen.ix[datetime(2013,4,2,20)]['Kathi']=8\n",
      "einzahlungen.ix[datetime(2013,4,2,20)]['Christoph P.']=1\n",
      "einzahlungen.ix[datetime(2013,4,2,20)]['Tobi']=1\n",
      "einzahlungen.ix[datetime(2013,4,2,20)]['Peter']=1\n",
      "einzahlungen.ix[datetime(2013,4,2,20)]['Matthias']=1\n",
      "\n",
      "einzahlungen.ix[datetime(2013,4,9,20)]['Julia']=1\n",
      "einzahlungen.ix[datetime(2013,4,9,20)]['Tobi']=1\n",
      "einzahlungen.ix[datetime(2013,4,9,20)]['Matthias']=2\n",
      "einzahlungen.ix[datetime(2013,4,9,20)]['Jana']=1\n",
      "einzahlungen.ix[datetime(2013,4,9,20)]['Theresa']=1\n",
      "einzahlungen.ix[datetime(2013,4,9,20)]['Peter']=1\n",
      "einzahlungen.ix[datetime(2013,4,9,20)]['Dominic']=2\n",
      "\n",
      "einzahlungen.ix[datetime(2013,4,15,20)]['Peter']=1\n",
      "einzahlungen.ix[datetime(2013,4,15,20)]['Julia']=1\n",
      "einzahlungen.ix[datetime(2013,4,15,20)]['Jana']=2\n",
      "einzahlungen.ix[datetime(2013,4,15,20)]['Mone']=8\n",
      "einzahlungen.ix[datetime(2013,4,15,20)]['Kathi']=8\n",
      "einzahlungen.ix[datetime(2013,4,15,20)]['Christoph P.']=3\n",
      "#bei Lukas finde ich hier 2 Zahlungen nicht aber bei der Nachzahlung ist ein hackerl\n",
      "einzahlungen.ix[datetime(2013,4,15,20)]['Lukas']=6\n",
      "einzahlungen.ix[datetime(2013,4,15,20)]['Christoph W.']=1\n",
      "einzahlungen.ix[datetime(2013,4,15,20)]['Eva']=6\n",
      "einzahlungen.ix[datetime(2013,4,15,20)]['Tobi']=3\n",
      "einzahlungen.ix[datetime(2013,4,15,20)]['Dominic']=11\n",
      "einzahlungen.ix[datetime(2013,4,15,20)]['Theresa']=1\n",
      "\n",
      "#Letze 6 Sparverein\n",
      "einzahlungen['Peter'].values[-6:]=[1,1,1,1,0,1]\n",
      "einzahlungen['Julia'].values[-6:]=[1,1,1,1,0,0]\n",
      "einzahlungen['Jana'].values[-6:]=[1,1,0,0,1,1]\n",
      "einzahlungen['Mone'].values[-6:]=[1,1,1,1,1,1]\n",
      "einzahlungen['Christoph P.'].values[-6:]=[1,1,1,1,1,1]\n",
      "einzahlungen['Lukas'].values[-6:]=[1,1,1,1,1,0]\n",
      "einzahlungen['Christoph W.'].values[-6:]=[1,1,1,1,1,1]\n",
      "einzahlungen['Matthias'].values[-6:]=[1,1,1,1,1,1]\n",
      "einzahlungen['Eva'].values[-6:]=[0,0,1,1,0,0]\n",
      "einzahlungen['Tobi'].values[-6:]=[1,1,1,1,1,0]\n",
      "einzahlungen['Dominic'].values[-6:]=[1,1,0,0,0,0]\n",
      "einzahlungen['Theresa'].values[-6:]=[1,1,1,1,1,1]\n",
      "einzahlungen['Johanna'].values[-6:]=[1,1,1,1,1,1]\n"
     ],
     "language": "python",
     "metadata": {},
     "outputs": [],
     "prompt_number": 3
    },
    {
     "cell_type": "code",
     "collapsed": false,
     "input": [
      "eingezahlt = einzahlungen * 2.5\n",
      "\n",
      "eingezahlt_insgesamt = eingezahlt.cumsum().ix[-1]\n",
      "\n",
      "gastbeitrag = eingezahlt_insgesamt[gast].sum()\n",
      "\n",
      "for g in gast:\n",
      "    print g\n",
      "    del eingezahlt[g]\n",
      "    \n",
      "budget_mitglieder = eingezahlt.cumsum().ix[-1]\n",
      "\n",
      "#die einzahlung von Gordon auf die reslichen leute aufteilen\n",
      "budget_mitglieder = budget_mitglieder + gastbeitrag/len(mitglieder)\n",
      "print budget_mitglieder"
     ],
     "language": "python",
     "metadata": {},
     "outputs": [
      {
       "output_type": "stream",
       "stream": "stdout",
       "text": [
        "Gordon\n",
        "Peter           77.647059\n",
        "Julia           75.147059\n",
        "Jana            75.147059\n",
        "Mone            80.147059\n",
        "Kathi           54.507059\n",
        "Christoph P.    80.147059\n",
        "Lukas           77.647059\n",
        "Christoph W.    72.647059\n",
        "Matthias        80.147059\n",
        "Eva             62.647059\n",
        "Lena             0.147059\n",
        "Tobi            75.147059\n",
        "Dominic         70.147059\n",
        "Theresa         80.147059\n",
        "Bernhard        10.147059\n",
        "Johanna         15.147059\n",
        "Name: 2013-06-04 20:00:00, dtype: float64\n"
       ]
      }
     ],
     "prompt_number": 4
    },
    {
     "cell_type": "code",
     "collapsed": false,
     "input": [
      "print len(einzahlungen.columns)\n",
      "\n",
      "import matplotlib.pyplot as plt\n",
      "\n",
      "fig, (ax0, ax1)  = plt.subplots(nrows=2)\n",
      "\n",
      "eingezahlt.cumsum().ix[:,0:7].plot(ax=ax0)\n",
      "eingezahlt.cumsum().ix[:,8:].plot(ax=ax1)\n",
      "\n",
      "plt.show()"
     ],
     "language": "python",
     "metadata": {},
     "outputs": [
      {
       "output_type": "stream",
       "stream": "stdout",
       "text": [
        "17\n"
       ]
      }
     ],
     "prompt_number": 6
    },
    {
     "cell_type": "code",
     "collapsed": false,
     "input": [
      "#Ausflug 2013\n",
      "mitfahrer = pd.Series({'Bettina':0,'Doris':0,'Karin':0})"
     ],
     "language": "python",
     "metadata": {},
     "outputs": [],
     "prompt_number": 5
    },
    {
     "cell_type": "code",
     "collapsed": false,
     "input": [
      "ausfluegler = pd.concat((budget_mitglieder,mitfahrer))"
     ],
     "language": "python",
     "metadata": {},
     "outputs": [],
     "prompt_number": 6
    },
    {
     "cell_type": "code",
     "collapsed": false,
     "input": [
      "\n"
     ],
     "language": "python",
     "metadata": {},
     "outputs": [],
     "prompt_number": 6
    },
    {
     "cell_type": "code",
     "collapsed": false,
     "input": [
      "ausfluegler = ausfluegler[(ausfluegler.index != 'Lena') & \n",
      "                          (ausfluegler.index != 'Kathi') &\n",
      "                          (ausfluegler.index != 'Bernhard')]\n",
      "ausfluegler"
     ],
     "language": "python",
     "metadata": {},
     "outputs": [
      {
       "metadata": {},
       "output_type": "pyout",
       "prompt_number": 34,
       "text": [
        "Peter           77.647059\n",
        "Julia           75.147059\n",
        "Jana            75.147059\n",
        "Mone            80.147059\n",
        "Christoph P.    80.147059\n",
        "Lukas           77.647059\n",
        "Christoph W.    72.647059\n",
        "Matthias        80.147059\n",
        "Eva             62.647059\n",
        "Tobi            75.147059\n",
        "Dominic         70.147059\n",
        "Theresa         80.147059\n",
        "Johanna         15.147059\n",
        "Bettina          0.000000\n",
        "Doris            0.000000\n",
        "Karin            0.000000\n",
        "dtype: float64"
       ]
      }
     ],
     "prompt_number": 34
    },
    {
     "cell_type": "code",
     "collapsed": false,
     "input": [
      "hauskosten = 592\n",
      "mietauto_miete = 89.95 +16+16*0.2\n",
      "mietauto_benzin = 47.71\n",
      "mietauto_vignette = 10\n",
      "mietauto = mietauto_miete + mietauto_benzin + mietauto_vignette\n",
      "tobi_auto = 60\n",
      "\n",
      "doso_einkauf = 277.11\n",
      "eva_bier = 40\n",
      "\n",
      "#plus zugfahrer jeweils 25\u20ac laut Johanna\n",
      "zugkosten=6*25\n",
      "\n",
      "gesamtkosten=mietauto + tobi_auto + hauskosten + doso_einkauf + eva_bier + zugkosten\n",
      "\n",
      "kosten_person = gesamtkosten/len(ausfluegler)\n",
      "\n",
      "print 'Gesamtkosten:', gesamtkosten\n",
      "print 'Kosten pro Person', kosten_person\n",
      "print 'Budget:', ausfluegler.sum()"
     ],
     "language": "python",
     "metadata": {},
     "outputs": [
      {
       "output_type": "stream",
       "stream": "stdout",
       "text": [
        "Gesamtkosten: 1285.97\n",
        "Kosten pro Person 80.373125\n",
        "Budget: 921.911764706\n"
       ]
      }
     ],
     "prompt_number": 35
    },
    {
     "cell_type": "code",
     "collapsed": false,
     "input": [
      "bilanz = ausfluegler - kosten_person"
     ],
     "language": "python",
     "metadata": {},
     "outputs": [],
     "prompt_number": 36
    },
    {
     "cell_type": "code",
     "collapsed": false,
     "input": [
      "#zugfahrer\n",
      "bilanz['Peter'] = bilanz['Peter']+25\n",
      "bilanz['Johanna'] = bilanz['Johanna']+25\n",
      "bilanz['Doris'] = bilanz['Doris']+25\n",
      "bilanz['Lukas'] = bilanz['Lukas']+25\n",
      "bilanz['Mone'] = bilanz['Mone']+25\n",
      "bilanz['Matthias'] = bilanz['Matthias']+25\n",
      "\n",
      "#haus+mietauto\n",
      "bilanz['Christoph P.'] = bilanz['Christoph P.'] + hauskosten + mietauto\n",
      "#tobi auto\n",
      "bilanz['Tobi'] = bilanz['Tobi']+60\n",
      "#einkauf\n",
      "bilanz['Dominic'] = bilanz['Dominic']+doso_einkauf\n",
      "bilanz['Eva'] = bilanz['Eva']+eva_bier\n",
      "\n",
      "bilanz"
     ],
     "language": "python",
     "metadata": {},
     "outputs": [
      {
       "metadata": {},
       "output_type": "pyout",
       "prompt_number": 37,
       "text": [
        "Peter            22.273934\n",
        "Julia            -5.226066\n",
        "Jana             -5.226066\n",
        "Mone             24.773934\n",
        "Christoph P.    758.633934\n",
        "Lukas            22.273934\n",
        "Christoph W.     -7.726066\n",
        "Matthias         24.773934\n",
        "Eva              22.273934\n",
        "Tobi             54.773934\n",
        "Dominic         266.883934\n",
        "Theresa          -0.226066\n",
        "Johanna         -40.226066\n",
        "Bettina         -80.373125\n",
        "Doris           -55.373125\n",
        "Karin           -80.373125\n",
        "dtype: float64"
       ]
      }
     ],
     "prompt_number": 37
    },
    {
     "cell_type": "code",
     "collapsed": false,
     "input": [
      "#vorhandenes Geld\n",
      "scheine = 280\n",
      "konto = 360\n",
      "schuldschein = 132\n",
      "\n",
      "# hier noch im alten excel file nachsehen was wem geh\u00f6rt. \n",
      "#Johanna hat z.B noch ziemlich sicher 50\u20ac Guthaben\n",
      "konto_alt = 256 \n",
      "\n",
      "print scheine+konto+schuldschein"
     ],
     "language": "python",
     "metadata": {},
     "outputs": [
      {
       "output_type": "stream",
       "stream": "stdout",
       "text": [
        "772\n"
       ]
      }
     ],
     "prompt_number": 38
    },
    {
     "cell_type": "code",
     "collapsed": false,
     "input": [],
     "language": "python",
     "metadata": {},
     "outputs": []
    }
   ],
   "metadata": {}
  }
 ]
}